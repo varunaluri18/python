{
 "cells": [
  {
   "cell_type": "code",
   "execution_count": 1,
   "id": "67cf6ab8",
   "metadata": {},
   "outputs": [],
   "source": [
    "import pandas as pd\n",
    "import xml.etree.ElementTree as ETree\n",
    "from bs4 import BeautifulSoup\n",
    "\n",
    "empxml=ETree.parse('C:/Users/VarunNagendra/Desktop/training/xml/emp.xml')\n",
    "root=empxml.getroot()"
   ]
  },
  {
   "cell_type": "code",
   "execution_count": 2,
   "id": "665784cb",
   "metadata": {},
   "outputs": [],
   "source": [
    "cols=['id','name','email','password','about','token','country','location','lng','lat','dob','gender','userType','userStatus','profilePicture','coverPicture','enablefollowme','sendmenotifications','sendTextmessages','enabletagging','createdAt','updatedAt','livelng','livelat','liveLocation','creditBalance','myCash']\n",
    "rows=[]\n",
    "#print(cols)"
   ]
  },
  {
   "cell_type": "code",
   "execution_count": 3,
   "id": "d1ecfdc3",
   "metadata": {},
   "outputs": [],
   "source": [
    "for i in root:\n",
    "    id=i.find('id').text\n",
    "    name=i.find('name').text\n",
    "    email=i.find('email').text\n",
    "    password=i.find('password').text\n",
    "    about=i.find('about').text\n",
    "    token=i.find('token').text\n",
    "    country=i.find('country').text\n",
    "    location=i.find('location').text\n",
    "    lng=i.find('lng').text\n",
    "    lat=i.find('lat').text\n",
    "    dob=i.find('dob').text\n",
    "    gender=i.find('gender').text\n",
    "    userType=i.find('userType').text\n",
    "    userStatus=i.find('userStatus').text\n",
    "    profilePicture=i.find('profilePicture').text\n",
    "    coverPicture=i.find('coverPicture').text\n",
    "    enablefollowme=i.find('enablefollowme').text\n",
    "    sendmenotifications=i.find('sendmenotifications').text\n",
    "    sendTextmessages=i.find('sendTextmessages').text\n",
    "    enabletagging=i.find('enabletagging').text\n",
    "    createdAt=i.find('createdAt').text\n",
    "    updatedAt=i.find('updatedAt').text\n",
    "    livelng=i.find('livelng').text\n",
    "    livelat=i.find('livelat').text\n",
    "    liveLocation=i.find('liveLocation').text\n",
    "    creditBalance=i.find('creditBalance').text\n",
    "    myCash=i.find('myCash').text\n",
    "    \n",
    "    rows.append({\"id\":id,\"name\":name,\"email\": email,\"password\":password,\"about\":about,\"token\":token,\"country\":country,\"location\":location,\"lng\":lng,\"lat\":lat,\"dob\":dob,\"gender\":gender,\"userType\":userType,\"userStatus\":userStatus,\"profilePicture\":profilePicture,\"coverPicture\":coverPicture,\"enablefollowme\":enablefollowme,\"sendmenotifications\":sendmenotifications,\"sendTextmessages\":sendTextmessages,\"enabletagging\":enabletagging,\"createdAt\":createdAt,\"updatedAt\":updatedAt,\"livelng\":livelng,\"livelat\":livelat,\"liveLocation\":liveLocation,\"creditBalance\":creditBalance,\"myCash\":myCash})   "
   ]
  },
  {
   "cell_type": "code",
   "execution_count": 4,
   "id": "a0f7a4b5",
   "metadata": {},
   "outputs": [],
   "source": [
    "df = pd.DataFrame(rows, columns=cols)"
   ]
  },
  {
   "cell_type": "code",
   "execution_count": 5,
   "id": "2d7b7381",
   "metadata": {},
   "outputs": [],
   "source": [
    "df.to_csv(\"C:/Users/VarunNagendra/Desktop/training/xml/csvfile.csv\",index=False,header=True,columns=None)"
   ]
  }
 ],
 "metadata": {
  "kernelspec": {
   "display_name": "Python 3",
   "language": "python",
   "name": "python3"
  },
  "language_info": {
   "codemirror_mode": {
    "name": "ipython",
    "version": 3
   },
   "file_extension": ".py",
   "mimetype": "text/x-python",
   "name": "python",
   "nbconvert_exporter": "python",
   "pygments_lexer": "ipython3",
   "version": "3.8.8"
  }
 },
 "nbformat": 4,
 "nbformat_minor": 5
}
