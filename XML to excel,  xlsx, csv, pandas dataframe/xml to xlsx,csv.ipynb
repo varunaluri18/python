{
 "cells": [
  {
   "cell_type": "code",
   "execution_count": 1,
   "id": "5f2a676f",
   "metadata": {},
   "outputs": [],
   "source": [
    "import pandas as pd\n",
    "import xml.etree.ElementTree as ETree\n",
    "from bs4 import BeautifulSoup"
   ]
  },
  {
   "cell_type": "code",
   "execution_count": 2,
   "id": "ce993c7d",
   "metadata": {},
   "outputs": [],
   "source": [
    "with open('C:/Users/VarunNagendra/Desktop/training/xml/emp.xml', 'r') as f:\n",
    "    data=f.read()\n",
    "bs_data=BeautifulSoup(data,\"xml\")\n",
    "#print(bs_data)"
   ]
  },
  {
   "cell_type": "code",
   "execution_count": 3,
   "id": "ac30b793",
   "metadata": {},
   "outputs": [],
   "source": [
    "empxml=ETree.parse('C:/Users/VarunNagendra/Desktop/training/xml/sample.xml')\n",
    "emp=empxml.getroot()"
   ]
  },
  {
   "cell_type": "code",
   "execution_count": 4,
   "id": "9fdba5a8",
   "metadata": {},
   "outputs": [],
   "source": [
    "list01=[]\n",
    "for i in emp:\n",
    "    dict01={}\n",
    "    for j in list(i):\n",
    "        dict01.update({j.tag:j.text})\n",
    "        list01.append(dict01)"
   ]
  },
  {
   "cell_type": "code",
   "execution_count": 5,
   "id": "57cd0ad5",
   "metadata": {},
   "outputs": [],
   "source": [
    "df=pd.DataFrame(list01)"
   ]
  },
  {
   "cell_type": "code",
   "execution_count": 6,
   "id": "b07db549",
   "metadata": {},
   "outputs": [],
   "source": [
    "df.drop_duplicates(keep='first', inplace=True) #delete if any duplicates "
   ]
  },
  {
   "cell_type": "code",
   "execution_count": 7,
   "id": "34b51f33",
   "metadata": {},
   "outputs": [],
   "source": [
    "df.reset_index(drop=True, inplace=True) #reset index after deleting duplicates"
   ]
  },
  {
   "cell_type": "code",
   "execution_count": 8,
   "id": "aa030f02",
   "metadata": {},
   "outputs": [],
   "source": [
    "df.to_excel(\"C:/Users/VarunNagendra/Desktop/training/xml/excelfile.xlsx\",index=False,header=True,columns=None)\n",
    "df.to_csv(\"C:/Users/VarunNagendra/Desktop/training/xml/csvfile.csv\",index=False,header=True,columns=None)"
   ]
  },
  {
   "cell_type": "raw",
   "id": "a6e36d5a",
   "metadata": {},
   "source": [
    "write =pd.ExcelWriter('C:/Users/VarunNagendra/Desktop/training/xml/dup111.xlsx', engine='xlsxwriter') #it will create and write data in output file\n",
    "df.to_excel(write,sheet_name='sheet1')\n",
    "worksheet =write.sheets['sheet1']\n",
    "worksheet.set_column('B:Z',30)\n",
    "write.save()"
   ]
  }
 ],
 "metadata": {
  "kernelspec": {
   "display_name": "Python 3",
   "language": "python",
   "name": "python3"
  },
  "language_info": {
   "codemirror_mode": {
    "name": "ipython",
    "version": 3
   },
   "file_extension": ".py",
   "mimetype": "text/x-python",
   "name": "python",
   "nbconvert_exporter": "python",
   "pygments_lexer": "ipython3",
   "version": "3.8.8"
  }
 },
 "nbformat": 4,
 "nbformat_minor": 5
}
