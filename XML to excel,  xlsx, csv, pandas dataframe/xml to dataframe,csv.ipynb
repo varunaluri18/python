{
 "cells": [
  {
   "cell_type": "code",
   "execution_count": 1,
   "id": "cc0eaab1",
   "metadata": {},
   "outputs": [
    {
     "name": "stdout",
     "output_type": "stream",
     "text": [
      "       name       phone               email\n",
      "0     varun  8978675645   varun18@gmail.com\n",
      "1  ishwarya  2334455667  ishbindu@gmail.com\n",
      "2   sravani  1029384756     sravs@gmail.com\n"
     ]
    }
   ],
   "source": [
    "import xml.etree.ElementTree as Xet\n",
    "import pandas as pd\n",
    "# Parsing the XML file\n",
    "xmlparse = Xet.parse('C:/Users/VarunNagendra/Desktop/new_emp.xml')\n",
    "root = xmlparse.getroot()\n",
    "\n",
    "cols = [\"name\", \"phone\", \"email\"]\n",
    "rows = []\n",
    "for i in root:\n",
    "    name = i.find(\"Name\").text\n",
    "    phone = i.find(\"Phone\").text\n",
    "    email = i.find(\"Email\").text\n",
    "    rows.append({\"name\": name,\"phone\": phone,\"email\": email})\n",
    "\n",
    "df = pd.DataFrame(rows, columns=cols)\n",
    "print(df)\n",
    "#df.to_csv('output.csv')"
   ]
  },
  {
   "cell_type": "code",
   "execution_count": 2,
   "id": "f534786c",
   "metadata": {},
   "outputs": [
    {
     "name": "stdout",
     "output_type": "stream",
     "text": [
      "       Name       Phone               Email\n",
      "0     varun  8978675645   varun18@gmail.com\n",
      "1  ishwarya  2334455667  ishbindu@gmail.com\n",
      "2   sravani  1029384756     sravs@gmail.com\n"
     ]
    }
   ],
   "source": [
    "import pandas as pd\n",
    "import xml.etree.ElementTree as ETree\n",
    "from bs4 import BeautifulSoup\n",
    "empxml=ETree.parse('C:/Users/VarunNagendra/Desktop/new_emp.xml')\n",
    "emp=empxml.getroot()\n",
    "\n",
    "list01=[]\n",
    "for i in emp:\n",
    "    dict01={}\n",
    "    for j in list(i):\n",
    "        dict01.update({j.tag:j.text})\n",
    "        list01.append(dict01)\n",
    "\n",
    "df=pd.DataFrame(list01)\n",
    "#print(len(df))\n",
    "df.drop_duplicates(keep='first',inplace=True,ignore_index=True) \n",
    "#print(len(df))\n",
    "#df.to_csv('output.csv')\n",
    "print(df)"
   ]
  }
 ],
 "metadata": {
  "kernelspec": {
   "display_name": "Python 3",
   "language": "python",
   "name": "python3"
  },
  "language_info": {
   "codemirror_mode": {
    "name": "ipython",
    "version": 3
   },
   "file_extension": ".py",
   "mimetype": "text/x-python",
   "name": "python",
   "nbconvert_exporter": "python",
   "pygments_lexer": "ipython3",
   "version": "3.8.8"
  }
 },
 "nbformat": 4,
 "nbformat_minor": 5
}
